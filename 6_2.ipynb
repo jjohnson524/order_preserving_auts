{
 "cells": [
  {
   "cell_type": "code",
   "execution_count": 1,
   "id": "d3da0d58",
   "metadata": {},
   "outputs": [],
   "source": [
    "import preserve_order"
   ]
  },
  {
   "cell_type": "code",
   "execution_count": 2,
   "id": "f63de30e",
   "metadata": {},
   "outputs": [],
   "source": [
    "A=[[[1, 1], [4, 1], [2, -1], [1, -1]], [[1, 1], [2, 1]], [[1, 1], [2, 1], [4, -1], [3, 1], [1, 1], [2, 1], [4, -1], [3, 1], [4, 1]], [[1, 1], [2, 1], [4, -1], [3, 1], [4, 1]]]"
   ]
  },
  {
   "cell_type": "code",
   "execution_count": 3,
   "id": "117f3b23",
   "metadata": {},
   "outputs": [],
   "source": [
    "A_inv = [[[1,1],[4,1],[2,-1],[1,-1]],[[1,1],[2,1]],[[1,1],[2,1],[4,-1],[3,1],[1,1],[2,1],[4,-1],[3,1],[4,1]],[[1,1],[2,1],[4,-1],[3,1],[4,1]]]"
   ]
  },
  {
   "cell_type": "code",
   "execution_count": 4,
   "id": "974439fd",
   "metadata": {},
   "outputs": [],
   "source": [
    "h=preserve_order.Automorphism.makehom(A)\n",
    "h_inv=preserve_order.Automorphism.makehom(A_inv)"
   ]
  },
  {
   "cell_type": "code",
   "execution_count": 5,
   "id": "ee7612b8",
   "metadata": {},
   "outputs": [],
   "source": [
    "F=preserve_order.Automorphism.FreeGroup1(4)"
   ]
  },
  {
   "cell_type": "code",
   "execution_count": 11,
   "id": "1da6adec",
   "metadata": {},
   "outputs": [
    {
     "data": {
      "text/plain": [
       "[x1*x3*x1^-1,\n",
       " x1*x4,\n",
       " (x1^2*x2*x4^-1*x3*x4)^2*x1*x2*x4^-1*x3*x4,\n",
       " x1*(x1*x2*x4^-1*x3*x4)^2]"
      ]
     },
     "execution_count": 11,
     "metadata": {},
     "output_type": "execute_result"
    }
   ],
   "source": [
    "ans = []\n",
    "for g in F.gens():\n",
    "    ans.append(h(h_inv(g)))\n",
    "ans"
   ]
  },
  {
   "cell_type": "code",
   "execution_count": 5,
   "id": "bf2a4d9a",
   "metadata": {},
   "outputs": [],
   "source": [
    "a=preserve_order.Automorphism.Automorphism(h,h_inv,4)"
   ]
  },
  {
   "cell_type": "code",
   "execution_count": 6,
   "id": "a6f9e691",
   "metadata": {},
   "outputs": [
    {
     "data": {
      "text/plain": [
       "[ 0  1  2  1]\n",
       "[-1  1  2  1]\n",
       "[ 0  0  2  1]\n",
       "[ 1  0 -1  0]"
      ]
     },
     "execution_count": 6,
     "metadata": {},
     "output_type": "execute_result"
    }
   ],
   "source": [
    "a.abelian_matrix()"
   ]
  },
  {
   "cell_type": "code",
   "execution_count": 9,
   "id": "1bd70172",
   "metadata": {},
   "outputs": [
    {
     "name": "stdout",
     "output_type": "stream",
     "text": [
      "Adding x1\n",
      "    No contradictions. Cone has 186 elements.\n",
      "Adding x2\n",
      "    No contradictions. Cone has 715 elements.\n",
      "Adding x3^-1*x4\n",
      "    No contradictions. Cone has 1046 elements.\n",
      "Adding x2^-1*x3\n",
      "    Contradiction, x4^-1*x3*x1^-1 in both cone and inverse cone!\n",
      "Adding x3^-1*x2\n",
      "    Contradiction, x3^-1*x1^-1 in both cone and inverse cone!\n",
      "Adding x4^-1*x3\n",
      "    No contradictions. Cone has 915 elements.\n",
      "Adding x1^-1*x2\n",
      "    No contradictions. Cone has 1323 elements.\n",
      "Adding x3^-1*x1*x4\n",
      "    Contradiction, x3^-1*x4 in both cone and inverse cone!\n",
      "Adding x4^-1*x1^-1*x3\n",
      "    No contradictions. Cone has 1380 elements.\n",
      "Adding x3^-1*x2*x4\n",
      "    Contradiction, x3^-1*x4 in both cone and inverse cone!\n",
      "Adding x4^-1*x2^-1*x3\n",
      "    No contradictions. Cone has 1473 elements.\n",
      "Adding x2^-2*x4\n",
      "    No contradictions. Cone has 1596 elements.\n",
      "Adding x1^-1*x2^-1*x1*x2\n",
      "    No contradictions. Cone has 1600 elements.\n",
      "Found cone with 1600 elements!\n"
     ]
    },
    {
     "data": {
      "text/plain": [
       "True"
      ]
     },
     "execution_count": 9,
     "metadata": {},
     "output_type": "execute_result"
    }
   ],
   "source": [
    "preserve_order.preserve_order_obstruct(a,4,Print=True)"
   ]
  },
  {
   "cell_type": "code",
   "execution_count": 10,
   "id": "e5dbca51",
   "metadata": {},
   "outputs": [
    {
     "name": "stdout",
     "output_type": "stream",
     "text": [
      "Adding x1\n",
      "    No contradictions. Cone has 1488 elements.\n",
      "Adding x2\n",
      "    No contradictions. Cone has 7729 elements.\n",
      "Adding x3^-1*x4\n",
      "    No contradictions. Cone has 9301 elements.\n",
      "Adding x2^-1*x3\n",
      "    No contradictions. Cone has 10398 elements.\n",
      "Adding x1^-1*x2\n",
      "    No contradictions. Cone has 14306 elements.\n",
      "Adding x3^-2*x4\n",
      "    Contradiction, x3^-1*x1^-1 in both cone and inverse cone!\n",
      "Adding x4^-1*x3^2\n",
      "    No contradictions. Cone has 14713 elements.\n",
      "Adding x3^-1*x2^-1*x4\n",
      "    Contradiction, x3^-1*x1^-1 in both cone and inverse cone!\n",
      "Adding x4^-1*x2*x3\n",
      "    No contradictions. Cone has 15122 elements.\n",
      "Adding x3^-1*x1^-1*x4\n",
      "    Contradiction, x3^-1*x1^-1 in both cone and inverse cone!\n",
      "Adding x4^-1*x1*x3\n",
      "    No contradictions. Cone has 15537 elements.\n",
      "Adding x2^-1*x3^-1*x4\n",
      "    Contradiction, x1*x2*x4^-1*x3*x1^-1 in both cone and inverse cone!\n",
      "Adding x4^-1*x3*x2\n",
      "    Contradiction, x4^-1*x3*x1*x2 in both cone and inverse cone!\n",
      "Adding x2^-1*x1\n",
      "    No contradictions. Cone has 10901 elements.\n",
      "Adding x1^-1*x3\n",
      "    No contradictions. Cone has 14279 elements.\n",
      "Adding x3^-2*x4\n",
      "    Contradiction, x3^-1*x1^-1 in both cone and inverse cone!\n",
      "Adding x4^-1*x3^2\n",
      "    No contradictions. Cone has 14687 elements.\n",
      "Adding x3^-1*x2^-1*x4\n",
      "    No contradictions. Cone has 16006 elements.\n",
      "Adding x3^-1*x1^-1*x4\n",
      "    Contradiction, x3^-1*x1^-1 in both cone and inverse cone!\n",
      "Adding x4^-1*x1*x3\n",
      "    No contradictions. Cone has 16453 elements.\n",
      "Adding x2^-1*x3^-1*x4\n",
      "    Contradiction, x1*x2*x4^-1*x3*x1^-1 in both cone and inverse cone!\n",
      "Adding x4^-1*x3*x2\n",
      "    Contradiction, x4^-1*x3*x1*x2 in both cone and inverse cone!\n",
      "Adding x4^-1*x2*x3\n",
      "    No contradictions. Cone has 15508 elements.\n",
      "Adding x2^-1*x3^-1*x4\n",
      "    Contradiction, x1*x2*x4^-1*x3*x1^-1 in both cone and inverse cone!\n",
      "Adding x4^-1*x3*x2\n",
      "    Contradiction, x4^-1*x3*x1*x2 in both cone and inverse cone!\n",
      "Adding x3^-1*x1\n",
      "    No contradictions. Cone has 12172 elements.\n",
      "Adding x1^-1*x4\n",
      "    No contradictions. Cone has 14375 elements.\n",
      "Adding x3^-2*x4\n",
      "    No contradictions. Cone has 16198 elements.\n",
      "Adding x3^-1*x1^-1*x4\n",
      "    Contradiction, x3^-1*x1^-1 in both cone and inverse cone!\n",
      "Adding x4^-1*x1*x3\n",
      "    No contradictions. Cone has 17138 elements.\n",
      "Adding x2^-2*x3\n",
      "    No contradictions. Cone has 18111 elements.\n",
      "Adding x2^-1*x1^-1*x4\n",
      "    Contradiction, x4^-1*x2*x4^-1*x3*x4 in both cone and inverse cone!\n",
      "Adding x4^-1*x1*x2\n",
      "    Contradiction, x4^-1*x1*x2*x4^-1*x3*x4 in both cone and inverse cone!\n",
      "Adding x3^-1*x2^2\n",
      "    No contradictions. Cone has 17620 elements.\n",
      "Adding x2^-1*x1^-1*x4\n",
      "    Contradiction, x4^-1*x2*x4^-1*x3*x4 in both cone and inverse cone!\n",
      "Adding x4^-1*x1*x2\n",
      "    Contradiction, x4^-1*x1*x2*x4^-1*x3*x4 in both cone and inverse cone!\n",
      "Adding x4^-1*x3^2\n",
      "    Contradiction, x1*x2*x4^-1*x3 in both cone and inverse cone!\n",
      "Adding x4^-1*x1\n",
      "    Contradiction, x4^-1*x3*x1*x2 in both cone and inverse cone!\n",
      "Adding x3^-1*x2\n",
      "    No contradictions. Cone has 10417 elements.\n",
      "Adding x1^-1*x2\n",
      "    No contradictions. Cone has 13758 elements.\n",
      "Adding x1^-1*x3\n",
      "    No contradictions. Cone has 14324 elements.\n",
      "Adding x3^-2*x4\n",
      "    Contradiction, x3^-1*x1^-1 in both cone and inverse cone!\n",
      "Adding x4^-1*x3^2\n",
      "    Contradiction, x4^-1*x3^2*x1*x2 in both cone and inverse cone!\n",
      "Adding x3^-1*x1\n",
      "    No contradictions. Cone has 14353 elements.\n",
      "Adding x3^-2*x4\n",
      "    No contradictions. Cone has 14781 elements.\n",
      "Adding x3^-1*x2^-1*x4\n",
      "    Contradiction, x3^-1*x1^-1 in both cone and inverse cone!\n",
      "Adding x4^-1*x2*x3\n",
      "    No contradictions. Cone has 16089 elements.\n",
      "Adding x3^-1*x1^-1*x4\n",
      "    Contradiction, x3^-1*x1^-1 in both cone and inverse cone!\n",
      "Adding x4^-1*x1*x3\n",
      "    Contradiction, x4^-1*x1*x2*x4^-1*x3*x4 in both cone and inverse cone!\n",
      "Adding x4^-1*x3^2\n",
      "    Contradiction, x4^-1*x3^2*x1*x2 in both cone and inverse cone!\n",
      "Adding x2^-1*x1\n",
      "    No contradictions. Cone has 12182 elements.\n",
      "Adding x1^-1*x4\n",
      "    No contradictions. Cone has 14347 elements.\n",
      "Adding x3^-2*x4\n",
      "    No contradictions. Cone has 14781 elements.\n",
      "Adding x3^-1*x2^-1*x4\n",
      "    No contradictions. Cone has 15224 elements.\n",
      "Adding x3^-1*x1^-1*x4\n",
      "    Contradiction, x3^-1*x1^-1 in both cone and inverse cone!\n",
      "Adding x4^-1*x1*x3\n",
      "    Contradiction, x4^-1*x1*x2*x4^-1*x3*x4 in both cone and inverse cone!\n",
      "Adding x4^-1*x2*x3\n",
      "    Contradiction, x1*x2*x4^-1*x2 in both cone and inverse cone!\n",
      "Adding x4^-1*x3^2\n",
      "    Contradiction, x4^-1*x3^2*x1*x2 in both cone and inverse cone!\n",
      "Adding x4^-1*x1\n",
      "    Contradiction, x4^-1*x3*x1*x2 in both cone and inverse cone!\n",
      "Adding x4^-1*x3\n",
      "    No contradictions. Cone has 10402 elements.\n",
      "Adding x1^-1*x2\n",
      "    No contradictions. Cone has 14271 elements.\n",
      "Adding x3^-1*x1*x4\n",
      "    Contradiction, x3^-1*x4 in both cone and inverse cone!\n",
      "Adding x4^-1*x1^-1*x3\n",
      "    No contradictions. Cone has 15527 elements.\n",
      "Adding x3^-1*x2*x4\n",
      "    Contradiction, x3^-1*x4 in both cone and inverse cone!\n",
      "Adding x4^-1*x2^-1*x3\n",
      "    No contradictions. Cone has 16901 elements.\n",
      "Adding x3^-1*x4^2\n",
      "    No contradictions. Cone has 17368 elements.\n",
      "Adding x2^-1*x4^-1*x3\n",
      "    No contradictions. Cone has 18353 elements.\n",
      "Adding x2^-2*x4\n",
      "    No contradictions. Cone has 20422 elements.\n",
      "Adding x1^-2*x2\n",
      "    Contradiction, x1*(x2*x4^-1)^2*x2 in both cone and inverse cone!\n",
      "Adding x2^-1*x1^2\n",
      "    No contradictions. Cone has 20951 elements.\n",
      "Found cone with 20951 elements!\n"
     ]
    },
    {
     "data": {
      "text/plain": [
       "True"
      ]
     },
     "execution_count": 10,
     "metadata": {},
     "output_type": "execute_result"
    }
   ],
   "source": [
    "preserve_order.preserve_order_obstruct(a,3,Print=True,track_extra_elements=True)"
   ]
  },
  {
   "cell_type": "code",
   "execution_count": 11,
   "id": "de92daad",
   "metadata": {},
   "outputs": [
    {
     "name": "stdout",
     "output_type": "stream",
     "text": [
      "Adding x1\n",
      "    No contradictions. Cone has 18852 elements.\n",
      "Adding x2\n",
      "    No contradictions. Cone has 194771 elements.\n",
      "Adding x3^-1*x4\n",
      "    Contradiction, x4^-1*x3^-1*x4*x2^-1*x1^-2 in both cone and inverse cone!\n",
      "Adding x4^-1*x3\n",
      "    No contradictions. Cone has 292358 elements.\n",
      "Adding x1^-1*x2\n",
      "    No contradictions. Cone has 601410 elements.\n",
      "Adding x3^-1*x1*x4\n",
      "    Contradiction, x3^-1*(x4*x2^-1)^2*x1^-1 in both cone and inverse cone!\n",
      "Adding x4^-1*x1^-1*x3\n",
      "    No contradictions. Cone has 651960 elements.\n",
      "Adding x3^-1*x2*x4\n",
      "    Contradiction, x1*x2*x3^-1*x4*x2^-1*x1^-1 in both cone and inverse cone!\n",
      "Adding x4^-1*x2^-1*x3\n",
      "    No contradictions. Cone has 742655 elements.\n",
      "Adding x2^-2*x4\n",
      "    No contradictions. Cone has 872313 elements.\n",
      "Adding x1^-1*x2^-1*x1*x2\n",
      "    No contradictions. Cone has 876668 elements.\n",
      "Found cone with 876668 elements!\n"
     ]
    },
    {
     "data": {
      "text/plain": [
       "True"
      ]
     },
     "execution_count": 11,
     "metadata": {},
     "output_type": "execute_result"
    }
   ],
   "source": [
    "preserve_order.preserve_order_obstruct(a,4,Print=True,track_extra_elements=True)"
   ]
  },
  {
   "cell_type": "code",
   "execution_count": null,
   "id": "1e0e9c83",
   "metadata": {},
   "outputs": [],
   "source": []
  }
 ],
 "metadata": {
  "kernelspec": {
   "display_name": "SageMath 9.5",
   "language": "sage",
   "name": "sagemath"
  },
  "language_info": {
   "codemirror_mode": {
    "name": "ipython",
    "version": 3
   },
   "file_extension": ".py",
   "mimetype": "text/x-python",
   "name": "python",
   "nbconvert_exporter": "python",
   "pygments_lexer": "ipython3",
   "version": "3.10.6"
  }
 },
 "nbformat": 4,
 "nbformat_minor": 5
}
