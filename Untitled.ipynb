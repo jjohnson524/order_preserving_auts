{
 "cells": [
  {
   "cell_type": "code",
   "execution_count": 1,
   "id": "c72e92e5",
   "metadata": {},
   "outputs": [],
   "source": [
    "import preserve_order"
   ]
  },
  {
   "cell_type": "code",
   "execution_count": 2,
   "id": "ed76145c",
   "metadata": {},
   "outputs": [],
   "source": [
    "A=[[[1, 1], [4, 1], [2, -1], [1, -1]], [[1, 1], [2, 1]], [[1, 1], [2, 1], [4, -1], [3, 1], [1, 1], [2, 1], [4, -1], [3, 1], [4, 1]], [[1, 1], [2, 1], [4, -1], [3, 1], [4, 1]]]"
   ]
  },
  {
   "cell_type": "code",
   "execution_count": 3,
   "id": "773615f4",
   "metadata": {},
   "outputs": [],
   "source": [
    "h=preserve_order.Automorphism.makehom(A)"
   ]
  },
  {
   "cell_type": "code",
   "execution_count": 4,
   "id": "a55ae8e9",
   "metadata": {},
   "outputs": [],
   "source": [
    "F=preserve_order.Automorphism.FreeGroup1(4)"
   ]
  },
  {
   "cell_type": "code",
   "execution_count": 5,
   "id": "ee73ef36",
   "metadata": {},
   "outputs": [],
   "source": [
    "def comm(x,y):\n",
    "    return x^-1 * y^-1 * x * y"
   ]
  },
  {
   "cell_type": "code",
   "execution_count": 6,
   "id": "0dee6038",
   "metadata": {},
   "outputs": [],
   "source": [
    "x1=F([1])\n",
    "x2=F([2])\n",
    "x3=F([3])\n",
    "x4=F([4])"
   ]
  },
  {
   "cell_type": "code",
   "execution_count": 7,
   "id": "43bde0b3",
   "metadata": {},
   "outputs": [
    {
     "data": {
      "text/plain": [
       "x1^-1*x2^-1*x1*x2"
      ]
     },
     "execution_count": 7,
     "metadata": {},
     "output_type": "execute_result"
    }
   ],
   "source": [
    "comm(x1,x2)"
   ]
  },
  {
   "cell_type": "code",
   "execution_count": 8,
   "id": "ff7636e7",
   "metadata": {},
   "outputs": [
    {
     "data": {
      "text/plain": [
       "x1*x2"
      ]
     },
     "execution_count": 8,
     "metadata": {},
     "output_type": "execute_result"
    }
   ],
   "source": [
    "x2*x1*comm(x1,x2)"
   ]
  },
  {
   "cell_type": "code",
   "execution_count": 10,
   "id": "663f6992",
   "metadata": {},
   "outputs": [
    {
     "data": {
      "text/plain": [
       "x4^-1*x2*x1*x4*x2^-1*x1^-1"
      ]
     },
     "execution_count": 10,
     "metadata": {},
     "output_type": "execute_result"
    }
   ],
   "source": [
    "h(comm(x2,x1))"
   ]
  },
  {
   "cell_type": "code",
   "execution_count": 11,
   "id": "687a2c36",
   "metadata": {},
   "outputs": [
    {
     "data": {
      "text/plain": [
       "x4^-1*x2*x1*x4*x2^-1*x1^-1"
      ]
     },
     "execution_count": 11,
     "metadata": {},
     "output_type": "execute_result"
    }
   ],
   "source": [
    "comm(x4,x2^-1)*comm(x4,x1^-1)*comm(comm(x4,x1^-1),x2^-1)*comm(x2^-1,x1^-1)"
   ]
  },
  {
   "cell_type": "code",
   "execution_count": null,
   "id": "a1687c1a",
   "metadata": {},
   "outputs": [],
   "source": []
  }
 ],
 "metadata": {
  "kernelspec": {
   "display_name": "SageMath 9.5",
   "language": "sage",
   "name": "sagemath"
  },
  "language_info": {
   "codemirror_mode": {
    "name": "ipython",
    "version": 3
   },
   "file_extension": ".py",
   "mimetype": "text/x-python",
   "name": "python",
   "nbconvert_exporter": "python",
   "pygments_lexer": "ipython3",
   "version": "3.10.6"
  }
 },
 "nbformat": 4,
 "nbformat_minor": 5
}
